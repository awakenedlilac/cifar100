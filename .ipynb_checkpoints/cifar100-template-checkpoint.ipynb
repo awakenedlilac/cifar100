{
 "cells": [
  {
   "cell_type": "markdown",
   "metadata": {},
   "source": [
    "**Классификация изображений с помощью сверточных нейронных сетей**\n",
    "\n",
    "В данном задании Вам необходимо разработать архитектуру сверточной ИНС, обеспечивающую наибольшую точность при ограничении на количество операций (FLOPs <= 0.707e6).\n",
    "Заготовка кода для выполнения задания приведена выше. Вашей задачей будет заполнить пропущеные места, которые отмечены ключевым словом *None*.\n",
    "Необходимая точность (accuracy) сети на датасете CIFAR100 - 30%\n",
    "Желаемая точность (accuracy) сети на датасете CIFAR100 - 45%"
   ]
  },
  {
   "cell_type": "code",
   "execution_count": 2,
   "metadata": {
    "execution": {
     "iopub.execute_input": "2023-01-25T06:16:37.255366Z",
     "iopub.status.busy": "2023-01-25T06:16:37.254978Z",
     "iopub.status.idle": "2023-01-25T06:19:07.279023Z",
     "shell.execute_reply": "2023-01-25T06:19:07.277429Z",
     "shell.execute_reply.started": "2023-01-25T06:16:37.255332Z"
    }
   },
   "outputs": [
    {
     "name": "stdout",
     "output_type": "stream",
     "text": [
      "Requirement already satisfied: keras-flops in ./venv/lib/python3.8/site-packages (0.1.2)\n",
      "Requirement already satisfied: tensorflow<3.0,>=2.2 in ./venv/lib/python3.8/site-packages (from keras-flops) (2.11.0)\n",
      "Requirement already satisfied: tensorboard<2.12,>=2.11 in ./venv/lib/python3.8/site-packages (from tensorflow<3.0,>=2.2->keras-flops) (2.11.2)\n",
      "Requirement already satisfied: numpy>=1.20 in ./venv/lib/python3.8/site-packages (from tensorflow<3.0,>=2.2->keras-flops) (1.24.1)\n",
      "Requirement already satisfied: opt-einsum>=2.3.2 in ./venv/lib/python3.8/site-packages (from tensorflow<3.0,>=2.2->keras-flops) (3.3.0)\n",
      "Requirement already satisfied: google-pasta>=0.1.1 in ./venv/lib/python3.8/site-packages (from tensorflow<3.0,>=2.2->keras-flops) (0.2.0)\n",
      "Requirement already satisfied: keras<2.12,>=2.11.0 in ./venv/lib/python3.8/site-packages (from tensorflow<3.0,>=2.2->keras-flops) (2.11.0)\n",
      "Requirement already satisfied: typing-extensions>=3.6.6 in ./venv/lib/python3.8/site-packages (from tensorflow<3.0,>=2.2->keras-flops) (4.4.0)\n",
      "Requirement already satisfied: flatbuffers>=2.0 in ./venv/lib/python3.8/site-packages (from tensorflow<3.0,>=2.2->keras-flops) (23.1.21)\n",
      "Requirement already satisfied: tensorflow-io-gcs-filesystem>=0.23.1 in ./venv/lib/python3.8/site-packages (from tensorflow<3.0,>=2.2->keras-flops) (0.30.0)\n",
      "Requirement already satisfied: protobuf<3.20,>=3.9.2 in ./venv/lib/python3.8/site-packages (from tensorflow<3.0,>=2.2->keras-flops) (3.19.6)\n",
      "Requirement already satisfied: packaging in ./venv/lib/python3.8/site-packages (from tensorflow<3.0,>=2.2->keras-flops) (23.0)\n",
      "Requirement already satisfied: h5py>=2.9.0 in ./venv/lib/python3.8/site-packages (from tensorflow<3.0,>=2.2->keras-flops) (3.8.0)\n",
      "Requirement already satisfied: six>=1.12.0 in ./venv/lib/python3.8/site-packages (from tensorflow<3.0,>=2.2->keras-flops) (1.16.0)\n",
      "Requirement already satisfied: setuptools in ./venv/lib/python3.8/site-packages (from tensorflow<3.0,>=2.2->keras-flops) (51.3.3)\n",
      "Requirement already satisfied: grpcio<2.0,>=1.24.3 in ./venv/lib/python3.8/site-packages (from tensorflow<3.0,>=2.2->keras-flops) (1.51.1)\n",
      "Requirement already satisfied: gast<=0.4.0,>=0.2.1 in ./venv/lib/python3.8/site-packages (from tensorflow<3.0,>=2.2->keras-flops) (0.4.0)\n",
      "Requirement already satisfied: termcolor>=1.1.0 in ./venv/lib/python3.8/site-packages (from tensorflow<3.0,>=2.2->keras-flops) (2.2.0)\n",
      "Requirement already satisfied: astunparse>=1.6.0 in ./venv/lib/python3.8/site-packages (from tensorflow<3.0,>=2.2->keras-flops) (1.6.3)\n",
      "Requirement already satisfied: absl-py>=1.0.0 in ./venv/lib/python3.8/site-packages (from tensorflow<3.0,>=2.2->keras-flops) (1.4.0)\n",
      "Requirement already satisfied: libclang>=13.0.0 in ./venv/lib/python3.8/site-packages (from tensorflow<3.0,>=2.2->keras-flops) (15.0.6.1)\n",
      "Requirement already satisfied: tensorflow-estimator<2.12,>=2.11.0 in ./venv/lib/python3.8/site-packages (from tensorflow<3.0,>=2.2->keras-flops) (2.11.0)\n",
      "Requirement already satisfied: wrapt>=1.11.0 in ./venv/lib/python3.8/site-packages (from tensorflow<3.0,>=2.2->keras-flops) (1.14.1)\n",
      "Requirement already satisfied: wheel<1.0,>=0.23.0 in ./venv/lib/python3.8/site-packages (from astunparse>=1.6.0->tensorflow<3.0,>=2.2->keras-flops) (0.38.4)\n",
      "Requirement already satisfied: tensorboard-data-server<0.7.0,>=0.6.0 in ./venv/lib/python3.8/site-packages (from tensorboard<2.12,>=2.11->tensorflow<3.0,>=2.2->keras-flops) (0.6.1)\n",
      "Requirement already satisfied: tensorboard-plugin-wit>=1.6.0 in ./venv/lib/python3.8/site-packages (from tensorboard<2.12,>=2.11->tensorflow<3.0,>=2.2->keras-flops) (1.8.1)\n",
      "Requirement already satisfied: requests<3,>=2.21.0 in ./venv/lib/python3.8/site-packages (from tensorboard<2.12,>=2.11->tensorflow<3.0,>=2.2->keras-flops) (2.28.2)\n",
      "Requirement already satisfied: markdown>=2.6.8 in ./venv/lib/python3.8/site-packages (from tensorboard<2.12,>=2.11->tensorflow<3.0,>=2.2->keras-flops) (3.4.1)\n",
      "Requirement already satisfied: google-auth<3,>=1.6.3 in ./venv/lib/python3.8/site-packages (from tensorboard<2.12,>=2.11->tensorflow<3.0,>=2.2->keras-flops) (2.16.0)\n",
      "Requirement already satisfied: werkzeug>=1.0.1 in ./venv/lib/python3.8/site-packages (from tensorboard<2.12,>=2.11->tensorflow<3.0,>=2.2->keras-flops) (2.2.2)\n",
      "Requirement already satisfied: google-auth-oauthlib<0.5,>=0.4.1 in ./venv/lib/python3.8/site-packages (from tensorboard<2.12,>=2.11->tensorflow<3.0,>=2.2->keras-flops) (0.4.6)\n",
      "Requirement already satisfied: pyasn1-modules>=0.2.1 in ./venv/lib/python3.8/site-packages (from google-auth<3,>=1.6.3->tensorboard<2.12,>=2.11->tensorflow<3.0,>=2.2->keras-flops) (0.2.8)\n",
      "Requirement already satisfied: rsa<5,>=3.1.4 in ./venv/lib/python3.8/site-packages (from google-auth<3,>=1.6.3->tensorboard<2.12,>=2.11->tensorflow<3.0,>=2.2->keras-flops) (4.9)\n",
      "Requirement already satisfied: cachetools<6.0,>=2.0.0 in ./venv/lib/python3.8/site-packages (from google-auth<3,>=1.6.3->tensorboard<2.12,>=2.11->tensorflow<3.0,>=2.2->keras-flops) (5.3.0)\n",
      "Requirement already satisfied: requests-oauthlib>=0.7.0 in ./venv/lib/python3.8/site-packages (from google-auth-oauthlib<0.5,>=0.4.1->tensorboard<2.12,>=2.11->tensorflow<3.0,>=2.2->keras-flops) (1.3.1)\n",
      "Requirement already satisfied: importlib-metadata>=4.4 in ./venv/lib/python3.8/site-packages (from markdown>=2.6.8->tensorboard<2.12,>=2.11->tensorflow<3.0,>=2.2->keras-flops) (6.0.0)\n",
      "Requirement already satisfied: zipp>=0.5 in ./venv/lib/python3.8/site-packages (from importlib-metadata>=4.4->markdown>=2.6.8->tensorboard<2.12,>=2.11->tensorflow<3.0,>=2.2->keras-flops) (3.11.0)\n",
      "Requirement already satisfied: pyasn1<0.5.0,>=0.4.6 in ./venv/lib/python3.8/site-packages (from pyasn1-modules>=0.2.1->google-auth<3,>=1.6.3->tensorboard<2.12,>=2.11->tensorflow<3.0,>=2.2->keras-flops) (0.4.8)\n",
      "Requirement already satisfied: charset-normalizer<4,>=2 in ./venv/lib/python3.8/site-packages (from requests<3,>=2.21.0->tensorboard<2.12,>=2.11->tensorflow<3.0,>=2.2->keras-flops) (3.0.1)\n",
      "Requirement already satisfied: certifi>=2017.4.17 in ./venv/lib/python3.8/site-packages (from requests<3,>=2.21.0->tensorboard<2.12,>=2.11->tensorflow<3.0,>=2.2->keras-flops) (2022.12.7)\n",
      "Requirement already satisfied: idna<4,>=2.5 in ./venv/lib/python3.8/site-packages (from requests<3,>=2.21.0->tensorboard<2.12,>=2.11->tensorflow<3.0,>=2.2->keras-flops) (3.4)\n",
      "Requirement already satisfied: urllib3<1.27,>=1.21.1 in ./venv/lib/python3.8/site-packages (from requests<3,>=2.21.0->tensorboard<2.12,>=2.11->tensorflow<3.0,>=2.2->keras-flops) (1.26.14)\n",
      "Requirement already satisfied: oauthlib>=3.0.0 in ./venv/lib/python3.8/site-packages (from requests-oauthlib>=0.7.0->google-auth-oauthlib<0.5,>=0.4.1->tensorboard<2.12,>=2.11->tensorflow<3.0,>=2.2->keras-flops) (3.2.2)\n",
      "Requirement already satisfied: MarkupSafe>=2.1.1 in ./venv/lib/python3.8/site-packages (from werkzeug>=1.0.1->tensorboard<2.12,>=2.11->tensorflow<3.0,>=2.2->keras-flops) (2.1.2)\n",
      "\u001b[33mWARNING: You are using pip version 20.3.3; however, version 22.3.1 is available.\n",
      "You should consider upgrading via the '/Users/a123/PycharmProjects/pythonProject4/venv/bin/python -m pip install --upgrade pip' command.\u001b[0m\n"
     ]
    }
   ],
   "source": [
    "!pip install keras-flops"
   ]
  },
  {
   "cell_type": "code",
   "execution_count": 3,
   "metadata": {
    "_cell_guid": "b1076dfc-b9ad-4769-8c92-a6c4dae69d19",
    "_uuid": "8f2839f25d086af736a60e9eeb907d3b93b6e0e5",
    "execution": {
     "iopub.execute_input": "2023-01-25T05:45:14.258095Z",
     "iopub.status.busy": "2023-01-25T05:45:14.257622Z",
     "iopub.status.idle": "2023-01-25T05:45:20.502563Z",
     "shell.execute_reply": "2023-01-25T05:45:20.500643Z",
     "shell.execute_reply.started": "2023-01-25T05:45:14.258060Z"
    }
   },
   "outputs": [],
   "source": [
    "# Импорт необходимых библиотек\n",
    "import numpy as np\n",
    "import pandas as pd\n",
    "import tensorflow as tf\n",
    "from keras_flops import get_flops"
   ]
  },
  {
   "cell_type": "code",
   "execution_count": 4,
   "metadata": {},
   "outputs": [],
   "source": [
    "# Глобальные константы\n",
    "CLASSES       = 100\n",
    "BATCH_SIZE    = 128\n",
    "LEARNING_RATE = 1e-2"
   ]
  },
  {
   "cell_type": "code",
   "execution_count": 5,
   "metadata": {},
   "outputs": [],
   "source": [
    "import ssl\n",
    "ssl._create_default_https_context = ssl._create_unverified_context"
   ]
  },
  {
   "cell_type": "code",
   "execution_count": 6,
   "metadata": {},
   "outputs": [],
   "source": [
    "# Выполните загрузку модели\n",
    "\n",
    "(X_train, y_train), (X_val, y_val) = tf.keras.datasets.cifar100.load_data()"
   ]
  },
  {
   "cell_type": "code",
   "execution_count": 7,
   "metadata": {},
   "outputs": [],
   "source": [
    "from keras.utils import np_utils"
   ]
  },
  {
   "cell_type": "code",
   "execution_count": 8,
   "metadata": {},
   "outputs": [],
   "source": [
    "# Преобразуйте метки классов в one_hot формат\n",
    "y_train = np_utils.to_categorical(y_train, 100)\n",
    "y_val = np_utils.to_categorical(y_val, 100)"
   ]
  },
  {
   "cell_type": "code",
   "execution_count": 9,
   "metadata": {},
   "outputs": [
    {
     "data": {
      "text/plain": [
       "(10000, 100)"
      ]
     },
     "execution_count": 9,
     "metadata": {},
     "output_type": "execute_result"
    }
   ],
   "source": [
    "y_train.shape\n",
    "y_val.shape"
   ]
  },
  {
   "cell_type": "code",
   "execution_count": 10,
   "metadata": {},
   "outputs": [],
   "source": [
    "# убедитесь, что данная ячейка выполняется без ошибок\n",
    "assert X_train.shape == (50000, 32, 32, 3)\n",
    "assert X_val.shape == (10000, 32, 32, 3)\n",
    "assert y_train.shape == (50000, 100)\n",
    "assert y_val.shape == (10000, 100)"
   ]
  },
  {
   "cell_type": "code",
   "execution_count": 12,
   "metadata": {},
   "outputs": [],
   "source": [
    "# Задайте архитектуру модели\n",
    "model = tf.keras.models.Sequential([\n",
    "    tf.keras.Input(shape=[32,32,3]),\n",
    "    tf.keras.layers.Conv2D(8, 3, padding='same'),\n",
    "    tf.keras.layers.MaxPooling2D(pool_size=(3, 3), strides=2),\n",
    "    tf.keras.layers.MaxPooling2D(pool_size=(2, 2)),\n",
    "    tf.keras.layers.BatchNormalization(),\n",
    "    tf.keras.layers.Activation('relu'),\n",
    "    tf.keras.layers.Flatten(),\n",
    "    tf.keras.layers.Dense(CLASSES),\n",
    "    tf.keras.layers.Activation('softmax')\n",
    "])"
   ]
  },
  {
   "cell_type": "code",
   "execution_count": 13,
   "metadata": {},
   "outputs": [
    {
     "name": "stdout",
     "output_type": "stream",
     "text": [
      "WARNING:tensorflow:From /Users/a123/PycharmProjects/pythonProject4/venv/lib/python3.8/site-packages/tensorflow/python/ops/nn_ops.py:5250: tensor_shape_from_node_def_name (from tensorflow.python.framework.graph_util_impl) is deprecated and will be removed in a future version.\n",
      "Instructions for updating:\n",
      "This API was designed for TensorFlow v1. See https://www.tensorflow.org/guide/migrate for instructions on how to migrate your code to TensorFlow v2.\n",
      "\n",
      "=========================Options=============================\n",
      "-max_depth                  10000\n",
      "-min_bytes                  0\n",
      "-min_peak_bytes             0\n",
      "-min_residual_bytes         0\n",
      "-min_output_bytes           0\n",
      "-min_micros                 0\n",
      "-min_accelerator_micros     0\n",
      "-min_cpu_micros             0\n",
      "-min_params                 0\n",
      "-min_float_ops              1\n",
      "-min_occurrence             0\n",
      "-step                       -1\n",
      "-order_by                   float_ops\n",
      "-account_type_regexes       .*\n",
      "-start_name_regexes         .*\n",
      "-trim_name_regexes          \n",
      "-show_name_regexes          .*\n",
      "-hide_name_regexes          \n",
      "-account_displayed_op_only  true\n",
      "-select                     float_ops\n",
      "-output                     stdout:\n",
      "\n",
      "==================Model Analysis Report======================\n",
      "\n",
      "Doc:\n",
      "scope: The nodes in the model graph are organized by their names, which is hierarchical like filesystem.\n",
      "flops: Number of float operations. Note: Please read the implementation for the math behind it.\n",
      "\n",
      "Profile:\n",
      "node name | # float_ops\n",
      "_TFProfRoot (--/548.16k flops)\n",
      "  sequential_1/conv2d_1/Conv2D (442.37k/442.37k flops)\n",
      "  sequential_1/dense_1/MatMul (78.40k/78.40k flops)\n",
      "  sequential_1/max_pooling2d_2/MaxPool (16.20k/16.20k flops)\n",
      "  sequential_1/conv2d_1/BiasAdd (8.19k/8.19k flops)\n",
      "  sequential_1/max_pooling2d_3/MaxPool (1.57k/1.57k flops)\n",
      "  sequential_1/batch_normalization_1/FusedBatchNormV3 (832/832 flops)\n",
      "  sequential_1/activation_3/Softmax (500/500 flops)\n",
      "  sequential_1/dense_1/BiasAdd (100/100 flops)\n",
      "\n",
      "======================End of Report==========================\n",
      "FLOPs: 0.5482e6\n"
     ]
    },
    {
     "name": "stderr",
     "output_type": "stream",
     "text": [
      "2023-01-25 19:30:44.561446: I tensorflow/core/grappler/devices.cc:75] Number of eligible GPUs (core count >= 8, compute capability >= 0.0): 0 (Note: TensorFlow was not compiled with CUDA or ROCm support)\n",
      "2023-01-25 19:30:44.561572: I tensorflow/core/grappler/clusters/single_machine.cc:358] Starting new session\n"
     ]
    }
   ],
   "source": [
    "# вычисление количества операций\n",
    "flops = get_flops(model, batch_size=1)\n",
    "print(f\"FLOPs: {(flops / 1e6):.4f}e6\")"
   ]
  },
  {
   "cell_type": "code",
   "execution_count": 14,
   "metadata": {},
   "outputs": [
    {
     "name": "stdout",
     "output_type": "stream",
     "text": [
      "Model: \"sequential_1\"\n",
      "_________________________________________________________________\n",
      " Layer (type)                Output Shape              Param #   \n",
      "=================================================================\n",
      " conv2d_1 (Conv2D)           (None, 32, 32, 8)         224       \n",
      "                                                                 \n",
      " max_pooling2d_2 (MaxPooling  (None, 15, 15, 8)        0         \n",
      " 2D)                                                             \n",
      "                                                                 \n",
      " max_pooling2d_3 (MaxPooling  (None, 7, 7, 8)          0         \n",
      " 2D)                                                             \n",
      "                                                                 \n",
      " batch_normalization_1 (Batc  (None, 7, 7, 8)          32        \n",
      " hNormalization)                                                 \n",
      "                                                                 \n",
      " activation_2 (Activation)   (None, 7, 7, 8)           0         \n",
      "                                                                 \n",
      " flatten_1 (Flatten)         (None, 392)               0         \n",
      "                                                                 \n",
      " dense_1 (Dense)             (None, 100)               39300     \n",
      "                                                                 \n",
      " activation_3 (Activation)   (None, 100)               0         \n",
      "                                                                 \n",
      "=================================================================\n",
      "Total params: 39,556\n",
      "Trainable params: 39,540\n",
      "Non-trainable params: 16\n",
      "_________________________________________________________________\n"
     ]
    }
   ],
   "source": [
    "# вывод краткой информации о модели\n",
    "model.summary()"
   ]
  },
  {
   "cell_type": "code",
   "execution_count": 15,
   "metadata": {},
   "outputs": [],
   "source": [
    "# параметры данной ячейки могут быть изменены для получения более высокой точности\n",
    "model.compile(\n",
    "    optimizer=tf.keras.optimizers.Adam(\n",
    "        learning_rate=tf.keras.optimizers.schedules.ExponentialDecay(initial_learning_rate=LEARNING_RATE, decay_steps=1000, decay_rate=0.5)\n",
    "    ),\n",
    "    loss=tf.keras.losses.CategoricalCrossentropy(),\n",
    "    metrics=['accuracy']\n",
    ")"
   ]
  },
  {
   "cell_type": "code",
   "execution_count": 16,
   "metadata": {},
   "outputs": [
    {
     "name": "stdout",
     "output_type": "stream",
     "text": [
      "Epoch 1/30\n",
      "391/391 [==============================] - 14s 33ms/step - loss: 3.5900 - accuracy: 0.1790 - val_loss: 3.3353 - val_accuracy: 0.2218\n",
      "Epoch 2/30\n",
      "391/391 [==============================] - 13s 33ms/step - loss: 3.0933 - accuracy: 0.2662 - val_loss: 3.1858 - val_accuracy: 0.2543\n",
      "Epoch 3/30\n",
      "391/391 [==============================] - 13s 34ms/step - loss: 2.9292 - accuracy: 0.2985 - val_loss: 3.1352 - val_accuracy: 0.2551\n",
      "Epoch 4/30\n",
      "391/391 [==============================] - 14s 36ms/step - loss: 2.8375 - accuracy: 0.3146 - val_loss: 3.0802 - val_accuracy: 0.2725\n",
      "Epoch 5/30\n",
      "391/391 [==============================] - 14s 35ms/step - loss: 2.7637 - accuracy: 0.3310 - val_loss: 3.0376 - val_accuracy: 0.2795\n",
      "Epoch 6/30\n",
      "391/391 [==============================] - 13s 34ms/step - loss: 2.7121 - accuracy: 0.3426 - val_loss: 2.9987 - val_accuracy: 0.2896\n",
      "Epoch 7/30\n",
      "391/391 [==============================] - 13s 33ms/step - loss: 2.6676 - accuracy: 0.3504 - val_loss: 2.9821 - val_accuracy: 0.2961\n",
      "Epoch 8/30\n",
      "391/391 [==============================] - 13s 32ms/step - loss: 2.6350 - accuracy: 0.3584 - val_loss: 2.9566 - val_accuracy: 0.2995\n",
      "Epoch 9/30\n",
      "391/391 [==============================] - 13s 33ms/step - loss: 2.6074 - accuracy: 0.3654 - val_loss: 2.9662 - val_accuracy: 0.3007\n",
      "Epoch 10/30\n",
      "391/391 [==============================] - 13s 33ms/step - loss: 2.5891 - accuracy: 0.3691 - val_loss: 2.9405 - val_accuracy: 0.3032\n",
      "Epoch 11/30\n",
      "391/391 [==============================] - 13s 33ms/step - loss: 2.5734 - accuracy: 0.3707 - val_loss: 2.9320 - val_accuracy: 0.3071\n",
      "Epoch 12/30\n",
      "391/391 [==============================] - 14s 35ms/step - loss: 2.5603 - accuracy: 0.3750 - val_loss: 2.9229 - val_accuracy: 0.3057\n",
      "Epoch 13/30\n",
      "391/391 [==============================] - 14s 35ms/step - loss: 2.5512 - accuracy: 0.3768 - val_loss: 2.9222 - val_accuracy: 0.3087\n",
      "Epoch 14/30\n",
      "391/391 [==============================] - 14s 35ms/step - loss: 2.5442 - accuracy: 0.3788 - val_loss: 2.9238 - val_accuracy: 0.3086\n",
      "Epoch 15/30\n",
      "391/391 [==============================] - 14s 35ms/step - loss: 2.5381 - accuracy: 0.3788 - val_loss: 2.9169 - val_accuracy: 0.3093\n",
      "Epoch 16/30\n",
      "391/391 [==============================] - 13s 33ms/step - loss: 2.5345 - accuracy: 0.3810 - val_loss: 2.9160 - val_accuracy: 0.3107\n",
      "Epoch 17/30\n",
      "391/391 [==============================] - 13s 34ms/step - loss: 2.5317 - accuracy: 0.3801 - val_loss: 2.9174 - val_accuracy: 0.3119\n",
      "Epoch 18/30\n",
      "391/391 [==============================] - 13s 34ms/step - loss: 2.5266 - accuracy: 0.3825 - val_loss: 2.9155 - val_accuracy: 0.3098\n",
      "Epoch 19/30\n",
      "391/391 [==============================] - 13s 34ms/step - loss: 2.5268 - accuracy: 0.3825 - val_loss: 2.9158 - val_accuracy: 0.3110\n",
      "Epoch 20/30\n",
      "391/391 [==============================] - 13s 34ms/step - loss: 2.5245 - accuracy: 0.3837 - val_loss: 2.9153 - val_accuracy: 0.3115\n",
      "Epoch 21/30\n",
      "391/391 [==============================] - 14s 35ms/step - loss: 2.5236 - accuracy: 0.3852 - val_loss: 2.9162 - val_accuracy: 0.3118\n",
      "Epoch 22/30\n",
      "391/391 [==============================] - 14s 35ms/step - loss: 2.5219 - accuracy: 0.3829 - val_loss: 2.9153 - val_accuracy: 0.3108\n",
      "Epoch 23/30\n",
      "391/391 [==============================] - 13s 35ms/step - loss: 2.5224 - accuracy: 0.3838 - val_loss: 2.9149 - val_accuracy: 0.3107\n",
      "Epoch 24/30\n",
      "391/391 [==============================] - 18s 45ms/step - loss: 2.5215 - accuracy: 0.3826 - val_loss: 2.9161 - val_accuracy: 0.3108\n",
      "Epoch 25/30\n",
      "391/391 [==============================] - 17s 43ms/step - loss: 2.5203 - accuracy: 0.3843 - val_loss: 2.9159 - val_accuracy: 0.3104\n",
      "Epoch 26/30\n",
      "391/391 [==============================] - 16s 41ms/step - loss: 2.5204 - accuracy: 0.3840 - val_loss: 2.9153 - val_accuracy: 0.3115\n",
      "Epoch 27/30\n",
      "391/391 [==============================] - 18s 47ms/step - loss: 2.5207 - accuracy: 0.3846 - val_loss: 2.9160 - val_accuracy: 0.3098\n",
      "Epoch 28/30\n",
      "391/391 [==============================] - 15s 39ms/step - loss: 2.5229 - accuracy: 0.3839 - val_loss: 2.9154 - val_accuracy: 0.3105\n",
      "Epoch 29/30\n",
      "391/391 [==============================] - 15s 39ms/step - loss: 2.5217 - accuracy: 0.3840 - val_loss: 2.9154 - val_accuracy: 0.3111\n",
      "Epoch 30/30\n",
      "391/391 [==============================] - 14s 37ms/step - loss: 2.5188 - accuracy: 0.3851 - val_loss: 2.9152 - val_accuracy: 0.3109\n"
     ]
    },
    {
     "data": {
      "text/plain": [
       "<keras.callbacks.History at 0x7fafacb81040>"
      ]
     },
     "execution_count": 16,
     "metadata": {},
     "output_type": "execute_result"
    }
   ],
   "source": [
    "# обучения модели\n",
    "model.fit(\n",
    "    x=X_train,\n",
    "    y=y_train,\n",
    "    validation_data=(X_val, y_val),\n",
    "    batch_size=BATCH_SIZE,\n",
    "    callbacks=[\n",
    "        tf.keras.callbacks.ModelCheckpoint(filepath=\"{epoch:02d}-{val_accuracy:.2f}.hdf5\", save_best_only=True),\n",
    "        \n",
    "    ],\n",
    "    use_multiprocessing=True,\n",
    "    workers=8,\n",
    "    epochs=30\n",
    ")"
   ]
  },
  {
   "cell_type": "code",
   "execution_count": null,
   "metadata": {},
   "outputs": [],
   "source": []
  }
 ],
 "metadata": {
  "kernelspec": {
   "display_name": "Python 3 (ipykernel)",
   "language": "python",
   "name": "python3"
  },
  "language_info": {
   "codemirror_mode": {
    "name": "ipython",
    "version": 3
   },
   "file_extension": ".py",
   "mimetype": "text/x-python",
   "name": "python",
   "nbconvert_exporter": "python",
   "pygments_lexer": "ipython3",
   "version": "3.8.5"
  }
 },
 "nbformat": 4,
 "nbformat_minor": 4
}
